{
 "cells": [
  {
   "cell_type": "code",
   "execution_count": 34,
   "metadata": {},
   "outputs": [],
   "source": [
    "import numpy as np\n",
    "import matplotlib.pyplot as plt"
   ]
  },
  {
   "cell_type": "code",
   "execution_count": 35,
   "metadata": {},
   "outputs": [],
   "source": [
    "class Plane:\n",
    "    def __init__(self,_id,_current_pos,_current_vel,_pos_array,_vel_array):\n",
    "        self.id = _id #Unique id of plane\n",
    "        #Think remove the initial pos\n",
    "        self.pos_current = _current_pos #Pos at current time\n",
    "        self.vel_current = _current_vel #Vel at current time\n",
    "        self.pos_array = _pos_array #Array of position over time\n",
    "        self.vel_array = _vel_array #Array of velocity over time\n",
    "\n",
    "    def __str__(self):\n",
    "        #For useful output whenprinting object e.g. print(plane) = ID: 10, Pos: [0,1,2] etc.\n",
    "        #Probably needs bit of adjusting\n",
    "        return \"ID: {id}, Current_pos: {c_pos}, Current_vel: {c_vel}\".format(id = self.id, c_pos = self.pos_current, c_vel = self.vel_current)"
   ]
  },
  {
   "cell_type": "code",
   "execution_count": 36,
   "metadata": {},
   "outputs": [],
   "source": [
    "def create_n_planes(n_planes,max_pos,max_vel,num_time_steps):\n",
    "    # n_planes controls how many planes are created\n",
    "    # max_pos is used as size of the grid planes put randomly in (just temp)\n",
    "    # max_vel scales the maximum velocity of the planes\n",
    "\n",
    "    plane_list = []\n",
    "    for id in range(n_planes):\n",
    "        # initial_pos = np.random.rand(3) * max_pos\n",
    "        # initial_vel = np.random.rand(3) * max_vel\n",
    "\n",
    "        pos_array = np.zeros((num_time_steps,3))\n",
    "        vel_array = np.zeros((num_time_steps,3))\n",
    "\n",
    "        pos_array[0,:] = np.random.rand(3) * max_pos\n",
    "        vel_array[0,:] = np.random.rand(3) * max_vel\n",
    "\n",
    "        plane_list.append(Plane(id, #Unique id\n",
    "                                pos_array[0,:], #Inital pos\n",
    "                                vel_array[0,:], #Initial vel\n",
    "                                pos_array, #Pos array\n",
    "                                vel_array)) #Vel array\n",
    "    \n",
    "    return plane_list"
   ]
  },
  {
   "cell_type": "code",
   "execution_count": 37,
   "metadata": {},
   "outputs": [],
   "source": [
    "#Define time setup\n",
    "max_t = 10\n",
    "delta_t = 0.5\n",
    "num_t_steps = int(max_t / delta_t)\n",
    "\n",
    "#Define variables about planes\n",
    "num_planes = 10\n",
    "grid_size = 10 #10x10 grid\n",
    "max_plane_vel = 1"
   ]
  },
  {
   "cell_type": "code",
   "execution_count": 38,
   "metadata": {},
   "outputs": [],
   "source": [
    "#Create planes\n",
    "planes = create_n_planes(num_planes,grid_size,max_plane_vel,num_t_steps)"
   ]
  },
  {
   "cell_type": "code",
   "execution_count": 39,
   "metadata": {},
   "outputs": [],
   "source": [
    "def calc_distances(planes,time_step):\n",
    "    #Returns n x n matrix of distance between plane i and plane j\n",
    "    #Diagonals should be zero\n",
    "    #Should be symmetrical\n",
    "    num_planes = len(planes)\n",
    "    out = np.zeros((num_planes,num_planes))\n",
    "\n",
    "    for i in range(num_planes):\n",
    "        for j in range(i+1,num_planes):\n",
    "            pos_i = planes[i].pos_array[time_step,:]\n",
    "            pos_j = planes[j].pos_array[time_step,:]\n",
    "            distance = np.linalg.norm(pos_i - pos_j)\n",
    "            out[i,j] = distance\n",
    "\n",
    "    return out"
   ]
  },
  {
   "cell_type": "code",
   "execution_count": 40,
   "metadata": {},
   "outputs": [],
   "source": [
    "distances = np.zeros((num_t_steps,num_planes,num_planes))\n",
    "avg_distances = np.zeros((num_t_steps))"
   ]
  },
  {
   "cell_type": "code",
   "execution_count": 41,
   "metadata": {},
   "outputs": [],
   "source": [
    "for timestep in range(num_t_steps-1):\n",
    "    distances[timestep,:,:] = calc_distances(planes,timestep)\n",
    "    avg_distances[timestep] = np.mean(distances[timestep,:,:])\n",
    "\n",
    "    for plane in planes:\n",
    "        #Have put extra variables in to make it clearer\n",
    "\n",
    "        pos = plane.pos_array[timestep,:]\n",
    "        vel = plane.vel_array[timestep,:]\n",
    "\n",
    "        #Super simple solving\n",
    "        new_pos = pos + vel * delta_t\n",
    "        new_vel = vel\n",
    "\n",
    "        plane.pos_array[timestep+1,:] = new_pos\n",
    "        plane.vel_array[timestep+1,:] = new_vel"
   ]
  },
  {
   "cell_type": "code",
   "execution_count": 42,
   "metadata": {},
   "outputs": [
    {
     "data": {
      "text/plain": [
       "array([[[ 0.        ,  4.988767  ,  7.66783617, ...,  3.46119591,\n",
       "          8.23242639,  7.23397716],\n",
       "        [ 0.        ,  0.        ,  9.67304139, ...,  4.60192611,\n",
       "         10.74097022,  6.77520418],\n",
       "        [ 0.        ,  0.        ,  0.        , ..., 10.39391305,\n",
       "          1.5073175 ,  5.28639438],\n",
       "        ...,\n",
       "        [ 0.        ,  0.        ,  0.        , ...,  0.        ,\n",
       "         11.19830763,  9.62975742],\n",
       "        [ 0.        ,  0.        ,  0.        , ...,  0.        ,\n",
       "          0.        ,  6.13340164],\n",
       "        [ 0.        ,  0.        ,  0.        , ...,  0.        ,\n",
       "          0.        ,  0.        ]],\n",
       "\n",
       "       [[ 0.        ,  5.10911123,  7.81852022, ...,  3.61080618,\n",
       "          8.21140161,  7.40637908],\n",
       "        [ 0.        ,  0.        ,  9.70421793, ...,  4.57148267,\n",
       "         10.53632146,  6.78328123],\n",
       "        [ 0.        ,  0.        ,  0.        , ..., 10.53366394,\n",
       "          1.24877274,  5.3572934 ],\n",
       "        ...,\n",
       "        [ 0.        ,  0.        ,  0.        , ...,  0.        ,\n",
       "         11.17481069,  9.72672209],\n",
       "        [ 0.        ,  0.        ,  0.        , ...,  0.        ,\n",
       "          0.        ,  5.97164226],\n",
       "        [ 0.        ,  0.        ,  0.        , ...,  0.        ,\n",
       "          0.        ,  0.        ]],\n",
       "\n",
       "       [[ 0.        ,  5.24899543,  7.97208298, ...,  3.79053618,\n",
       "          8.19365493,  7.57922058],\n",
       "        [ 0.        ,  0.        ,  9.75037486, ...,  4.5496117 ,\n",
       "         10.34024592,  6.79951229],\n",
       "        [ 0.        ,  0.        ,  0.        , ..., 10.6945641 ,\n",
       "          1.00975766,  5.43295354],\n",
       "        ...,\n",
       "        [ 0.        ,  0.        ,  0.        , ...,  0.        ,\n",
       "         11.16158457,  9.83384188],\n",
       "        [ 0.        ,  0.        ,  0.        , ...,  0.        ,\n",
       "          0.        ,  5.81227731],\n",
       "        [ 0.        ,  0.        ,  0.        , ...,  0.        ,\n",
       "          0.        ,  0.        ]],\n",
       "\n",
       "       ...,\n",
       "\n",
       "       [[ 0.        ,  8.79384318, 10.53010161, ...,  8.18447998,\n",
       "          8.32586813, 10.20928744],\n",
       "        [ 0.        ,  0.        , 11.99170911, ...,  5.22308432,\n",
       "          8.76575055,  7.92807511],\n",
       "        [ 0.        ,  0.        ,  0.        , ..., 14.98417161,\n",
       "          3.69489554,  7.01246141],\n",
       "        ...,\n",
       "        [ 0.        ,  0.        ,  0.        , ...,  0.        ,\n",
       "         12.15659151, 12.42359692],\n",
       "        [ 0.        ,  0.        ,  0.        , ...,  0.        ,\n",
       "          0.        ,  3.90290673],\n",
       "        [ 0.        ,  0.        ,  0.        , ...,  0.        ,\n",
       "          0.        ,  0.        ]],\n",
       "\n",
       "       [[ 0.        ,  9.08405411, 10.71301618, ...,  8.52473708,\n",
       "          8.36076722, 10.38640515],\n",
       "        [ 0.        ,  0.        , 12.22295491, ...,  5.32519009,\n",
       "          8.77044999,  8.05295264],\n",
       "        [ 0.        ,  0.        ,  0.        , ..., 15.35567212,\n",
       "          3.98452359,  7.13997485],\n",
       "        ...,\n",
       "        [ 0.        ,  0.        ,  0.        , ...,  0.        ,\n",
       "         12.29519041, 12.64657842],\n",
       "        [ 0.        ,  0.        ,  0.        , ...,  0.        ,\n",
       "          0.        ,  3.8258733 ],\n",
       "        [ 0.        ,  0.        ,  0.        , ...,  0.        ,\n",
       "          0.        ,  0.        ]],\n",
       "\n",
       "       [[ 0.        ,  0.        ,  0.        , ...,  0.        ,\n",
       "          0.        ,  0.        ],\n",
       "        [ 0.        ,  0.        ,  0.        , ...,  0.        ,\n",
       "          0.        ,  0.        ],\n",
       "        [ 0.        ,  0.        ,  0.        , ...,  0.        ,\n",
       "          0.        ,  0.        ],\n",
       "        ...,\n",
       "        [ 0.        ,  0.        ,  0.        , ...,  0.        ,\n",
       "          0.        ,  0.        ],\n",
       "        [ 0.        ,  0.        ,  0.        , ...,  0.        ,\n",
       "          0.        ,  0.        ],\n",
       "        [ 0.        ,  0.        ,  0.        , ...,  0.        ,\n",
       "          0.        ,  0.        ]]])"
      ]
     },
     "execution_count": 42,
     "metadata": {},
     "output_type": "execute_result"
    }
   ],
   "source": [
    "distances"
   ]
  },
  {
   "cell_type": "code",
   "execution_count": 43,
   "metadata": {},
   "outputs": [
    {
     "data": {
      "text/plain": [
       "[<matplotlib.lines.Line2D at 0x244e9c24910>]"
      ]
     },
     "execution_count": 43,
     "metadata": {},
     "output_type": "execute_result"
    },
    {
     "data": {
      "image/png": "[encoded data removed]",
      "text/plain": [
       "<Figure size 432x288 with 1 Axes>"
      ]
     },
     "metadata": {
      "needs_background": "light"
     },
     "output_type": "display_data"
    }
   ],
   "source": [
    "plt.plot(avg_distances)"
   ]
  },
  {
   "cell_type": "code",
   "execution_count": 44,
   "metadata": {},
   "outputs": [
    {
     "data": {
      "image/png": "[encoded data removed]",
      "text/plain": [
       "<Figure size 432x288 with 1 Axes>"
      ]
     },
     "metadata": {
      "needs_background": "light"
     },
     "output_type": "display_data"
    }
   ],
   "source": [
    "#Setup 3d plotting (not sure if this is best way of doing it)\n",
    "ax = plt.figure().add_subplot(projection='3d')\n",
    "\n",
    "for plane in planes:\n",
    "    pos = plane.pos_array\n",
    "    #For each plane plots line of trajectory\n",
    "    ax.plot(pos[:,0],pos[:,1],pos[:,2],label=\"Plane {id}\".format(id = plane.id))\n",
    "    #Dot for start pos\n",
    "    ax.scatter(pos[0,0],pos[0,1],pos[0,2])\n",
    "\n",
    "ax.set_xlabel(\"x\")\n",
    "ax.set_ylabel(\"y\")\n",
    "ax.set_zlabel(\"z\")\n",
    "\n",
    "#Bounding plot to grid size set\n",
    "#NOTE: planes might disappear off edge\n",
    "# ax.set_xlim(0,grid_size)\n",
    "# ax.set_ylim(0,grid_size)\n",
    "# ax.set_zlim(0,grid_size)\n",
    "\n",
    "ax.legend()\n",
    "plt.show()"
   ]
  }
 ],
 "metadata": {
  "kernelspec": {
   "display_name": "Python 3.9.1 64-bit",
   "language": "python",
   "name": "python3"
  },
  "language_info": {
   "codemirror_mode": {
    "name": "ipython",
    "version": 3
   },
   "file_extension": ".py",
   "mimetype": "text/x-python",
   "name": "python",
   "nbconvert_exporter": "python",
   "pygments_lexer": "ipython3",
   "version": "3.9.1"
  },
  "orig_nbformat": 4,
  "vscode": {
   "interpreter": {
    "hash": "8b1ab0cec3fcffef274fee4235a62be62f41fccf73fa7a28ac94dc9d203a1c8a"
   }
  }
 },
 "nbformat": 4,
 "nbformat_minor": 2
}
