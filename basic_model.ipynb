{
 "cells": [
  {
   "cell_type": "code",
   "execution_count": 65,
   "metadata": {},
   "outputs": [],
   "source": [
    "import numpy as np\n",
    "import matplotlib.pyplot as plt"
   ]
  },
  {
   "cell_type": "code",
   "execution_count": 66,
   "metadata": {},
   "outputs": [],
   "source": [
    "class Plane:\n",
    "    def __init__(self,_id,_current_pos,_current_vel,_pos_array,_vel_array):\n",
    "        self.id = _id #Unique id of plane\n",
    "        self.pos_current = _current_pos #Pos at current time\n",
    "        self.vel_current = _current_vel #Vel at current time\n",
    "        self.pos_array = _pos_array #Array of position over time\n",
    "        self.vel_array = _vel_array #Array of velocity over time\n",
    "\n",
    "    def __str__(self):\n",
    "        return \"ID: {id}, Current_pos: {c_pos}, Current_vel: {c_vel}\".format(id = self.id, c_pos = self.pos_current, c_vel = self.vel_current)"
   ]
  },
  {
   "cell_type": "code",
   "execution_count": 67,
   "metadata": {},
   "outputs": [],
   "source": [
    "def create_n_planes(n_planes,max_pos,max_vel,num_time_steps):\n",
    "    # n_planes controls how many planes are created\n",
    "    # max_pos is used as size of the grid planes put randomly in (just temp)\n",
    "    # max_vel scales the maximum velocity of the planes\n",
    "\n",
    "    plane_list = []\n",
    "    for id in range(n_planes):\n",
    "        # initial_pos = np.random.rand(3) * max_pos\n",
    "        # initial_vel = np.random.rand(3) * max_vel\n",
    "\n",
    "        pos_array = np.zeros((num_time_steps,3))\n",
    "        vel_array = np.zeros((num_time_steps,3))\n",
    "\n",
    "        pos_array[0,:] = np.random.rand(3) * max_pos\n",
    "        vel_array[0,:] = np.random.rand(3) * max_vel\n",
    "\n",
    "        plane_list.append(Plane(id, #Unique id\n",
    "                                pos_array[0,:], #Inital pos\n",
    "                                vel_array[0,:], #Initial vel\n",
    "                                pos_array, #Pos array\n",
    "                                vel_array)) #Vel array\n",
    "    \n",
    "    return plane_list"
   ]
  },
  {
   "cell_type": "code",
   "execution_count": 68,
   "metadata": {},
   "outputs": [],
   "source": [
    "#Define time setup\n",
    "max_t = 4\n",
    "delta_t = 0.5\n",
    "num_t_steps = int(max_t / delta_t)\n",
    "\n",
    "#Define variables about planes\n",
    "num_planes = 2\n",
    "grid_size = 10 #10x10 grid\n",
    "max_plane_vel = 2"
   ]
  },
  {
   "cell_type": "code",
   "execution_count": 69,
   "metadata": {},
   "outputs": [],
   "source": [
    "#Create planes\n",
    "planes = create_n_planes(num_planes,grid_size,max_plane_vel,num_t_steps)"
   ]
  },
  {
   "cell_type": "code",
   "execution_count": 76,
   "metadata": {},
   "outputs": [],
   "source": [
    "for timestep in range(num_t_steps-1):\n",
    "    for plane in planes:\n",
    "        #Have put extra variables in to make it clearer\n",
    "        pos = plane.pos_array[timestep,:]\n",
    "        vel = plane.vel_array[timestep,:]\n",
    "\n",
    "        new_pos = pos + vel * delta_t\n",
    "        new_vel = vel\n",
    "\n",
    "        plane.pos_array[timestep+1,:] = new_pos\n",
    "        plane.vel_array[timestep+1,:] = new_vel\n"
   ]
  },
  {
   "cell_type": "code",
   "execution_count": 77,
   "metadata": {},
   "outputs": [
    {
     "name": "stdout",
     "output_type": "stream",
     "text": [
      "[[ 3.87359093  1.10738405  7.16975434]\n",
      " [ 4.22716853  2.0512321   7.62601437]\n",
      " [ 4.58074612  2.99508016  8.08227439]\n",
      " [ 4.93432371  3.93892821  8.53853441]\n",
      " [ 5.28790131  4.88277627  8.99479444]\n",
      " [ 5.6414789   5.82662432  9.45105446]\n",
      " [ 5.9950565   6.77047238  9.90731449]\n",
      " [ 6.34863409  7.71432043 10.36357451]]\n"
     ]
    }
   ],
   "source": [
    "print(planes[0].pos_array)"
   ]
  }
 ],
 "metadata": {
  "kernelspec": {
   "display_name": "Python 3.9.1 64-bit",
   "language": "python",
   "name": "python3"
  },
  "language_info": {
   "codemirror_mode": {
    "name": "ipython",
    "version": 3
   },
   "file_extension": ".py",
   "mimetype": "text/x-python",
   "name": "python",
   "nbconvert_exporter": "python",
   "pygments_lexer": "ipython3",
   "version": "3.9.1"
  },
  "orig_nbformat": 4,
  "vscode": {
   "interpreter": {
    "hash": "8b1ab0cec3fcffef274fee4235a62be62f41fccf73fa7a28ac94dc9d203a1c8a"
   }
  }
 },
 "nbformat": 4,
 "nbformat_minor": 2
}
