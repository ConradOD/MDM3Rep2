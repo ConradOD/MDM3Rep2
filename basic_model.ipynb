{
 "cells": [
  {
   "cell_type": "code",
   "execution_count": 1,
   "metadata": {},
   "outputs": [],
   "source": [
    "import numpy as np\n",
    "import matplotlib.pyplot as plt"
   ]
  },
  {
   "cell_type": "code",
   "execution_count": 13,
   "metadata": {},
   "outputs": [],
   "source": [
    "class Plane:\n",
    "    def __init__(self,_id,_pos,_vel):\n",
    "        self.id = _id\n",
    "        self.pos = _pos #Not sure if we want this defined as np array or as pos_x, pos_y and pos_z\n",
    "        self.vel = _vel #Not sure if we want this defined as np array or as vel_x, vel_y and vel_z\n",
    "\n",
    "    def __str__(self):\n",
    "        return \"ID: {id}, Pos: {pos}, Vel: {vel}\".format(id = self.id, pos = self.pos, vel = self.vel)"
   ]
  },
  {
   "cell_type": "code",
   "execution_count": 22,
   "metadata": {},
   "outputs": [],
   "source": [
    "def create_n_planes(n_planes,max_pos,max_vel):\n",
    "    # n_planes controls how many planes are created\n",
    "    # max_pos is used as size of grid planes put randomly in (just temp)\n",
    "    # max_vel scales the maximum velocity of the planes\n",
    "    out = []\n",
    "    for id in range(n_planes):\n",
    "        random_pos = np.random.rand(3) * max_pos\n",
    "        random_vel = np.random.rand(3) * max_vel\n",
    "        out.append(Plane(id,random_pos,random_vel))\n",
    "    return out"
   ]
  },
  {
   "cell_type": "code",
   "execution_count": 23,
   "metadata": {},
   "outputs": [
    {
     "name": "stdout",
     "output_type": "stream",
     "text": [
      "ID: 0, Pos: [8.62087726 2.0460121  3.8668769 ], Vel: [0.59989352 0.63488617 0.72026095]\n",
      "ID: 1, Pos: [7.08327567 6.75924416 1.21285412], Vel: [0.42417607 0.79582141 0.89333617]\n",
      "ID: 2, Pos: [2.21053893 8.50901098 1.11278897], Vel: [0.89328997 0.91315226 0.68409994]\n",
      "ID: 3, Pos: [6.64908983 4.56862807 1.80701945], Vel: [0.8152133  0.98351424 0.64495258]\n",
      "ID: 4, Pos: [6.90031439 4.1284072  8.54440562], Vel: [0.64370989 0.89357826 0.09688858]\n"
     ]
    }
   ],
   "source": [
    "planes = create_n_planes(5,10,1)\n",
    "for plane in planes:\n",
    "    print(plane)"
   ]
  }
 ],
 "metadata": {
  "kernelspec": {
   "display_name": "Python 3.9.1 64-bit",
   "language": "python",
   "name": "python3"
  },
  "language_info": {
   "codemirror_mode": {
    "name": "ipython",
    "version": 3
   },
   "file_extension": ".py",
   "mimetype": "text/x-python",
   "name": "python",
   "nbconvert_exporter": "python",
   "pygments_lexer": "ipython3",
   "version": "3.9.1"
  },
  "orig_nbformat": 4,
  "vscode": {
   "interpreter": {
    "hash": "8b1ab0cec3fcffef274fee4235a62be62f41fccf73fa7a28ac94dc9d203a1c8a"
   }
  }
 },
 "nbformat": 4,
 "nbformat_minor": 2
}
