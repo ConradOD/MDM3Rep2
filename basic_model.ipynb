{
 "cells": [
  {
   "cell_type": "code",
   "execution_count": 22,
   "metadata": {},
   "outputs": [],
   "source": [
    "import numpy as np\n",
    "import matplotlib.pyplot as plt"
   ]
  },
  {
   "cell_type": "code",
   "execution_count": 23,
   "metadata": {},
   "outputs": [],
   "source": [
    "class Plane:\n",
    "    def __init__(self,_id,_current_pos,_current_vel,_pos_array,_vel_array):\n",
    "        self.id = _id #Unique id of plane\n",
    "        #Think remove the initial pos\n",
    "        self.pos_current = _current_pos #Pos at current time\n",
    "        self.vel_current = _current_vel #Vel at current time\n",
    "        self.pos_array = _pos_array #Array of position over time\n",
    "        self.vel_array = _vel_array #Array of velocity over time\n",
    "\n",
    "    def __str__(self):\n",
    "        #For useful output whenprinting object e.g. print(plane) = ID: 10, Pos: [0,1,2] etc.\n",
    "        #Probably needs bit of adjusting\n",
    "        return \"ID: {id}, Current_pos: {c_pos}, Current_vel: {c_vel}\".format(id = self.id, c_pos = self.pos_current, c_vel = self.vel_current)"
   ]
  },
  {
   "cell_type": "code",
   "execution_count": 24,
   "metadata": {},
   "outputs": [],
   "source": [
    "def create_n_planes(n_planes,max_pos,max_vel,num_time_steps):\n",
    "    # n_planes controls how many planes are created\n",
    "    # max_pos is used as size of the grid planes put randomly in (just temp)\n",
    "    # max_vel scales the maximum velocity of the planes\n",
    "\n",
    "    plane_list = []\n",
    "    for id in range(n_planes):\n",
    "        # initial_pos = np.random.rand(3) * max_pos\n",
    "        # initial_vel = np.random.rand(3) * max_vel\n",
    "\n",
    "        pos_array = np.zeros((num_time_steps,3))\n",
    "        vel_array = np.zeros((num_time_steps,3))\n",
    "\n",
    "        pos_array[0,:] = np.random.rand(3) * max_pos\n",
    "        vel_array[0,:] = np.random.rand(3) * max_vel\n",
    "\n",
    "        plane_list.append(Plane(id, #Unique id\n",
    "                                pos_array[0,:], #Inital pos\n",
    "                                vel_array[0,:], #Initial vel\n",
    "                                pos_array, #Pos array\n",
    "                                vel_array)) #Vel array\n",
    "    \n",
    "    return plane_list"
   ]
  },
  {
   "cell_type": "code",
   "execution_count": 25,
   "metadata": {},
   "outputs": [],
   "source": [
    "#Define time setup\n",
    "max_t = 10\n",
    "delta_t = 0.5\n",
    "num_t_steps = int(max_t / delta_t)\n",
    "\n",
    "#Define variables about planes\n",
    "num_planes = 4\n",
    "grid_size = 10 #10x10 grid\n",
    "max_plane_vel = 1"
   ]
  },
  {
   "cell_type": "code",
   "execution_count": 26,
   "metadata": {},
   "outputs": [],
   "source": [
    "#Create planes\n",
    "planes = create_n_planes(num_planes,grid_size,max_plane_vel,num_t_steps)"
   ]
  },
  {
   "cell_type": "code",
   "execution_count": 27,
   "metadata": {},
   "outputs": [],
   "source": [
    "def calc_distances(planes,time_step):\n",
    "    #Returns n x n matrix of distance between plane i and plane j\n",
    "    #Diagonals should be zero\n",
    "    #Should be symmetrical\n",
    "    num_planes = len(planes)\n",
    "    out = np.zeros((num_planes,num_planes))\n",
    "\n",
    "    for i in range(num_planes):\n",
    "        for j in range(i+1,num_planes):\n",
    "            pos_i = planes[i].pos_array[time_step,:]\n",
    "            pos_j = planes[j].pos_array[time_step,:]\n",
    "            distance = np.linalg.norm(pos_i - pos_j)\n",
    "            out[i,j] = distance\n",
    "\n",
    "    return out"
   ]
  },
  {
   "cell_type": "code",
   "execution_count": 28,
   "metadata": {},
   "outputs": [],
   "source": [
    "distances = np.zeros((num_t_steps,num_planes,num_planes))\n",
    "avg_distances = np.zeros((num_t_steps))"
   ]
  },
  {
   "cell_type": "code",
   "execution_count": 29,
   "metadata": {},
   "outputs": [],
   "source": [
    "for timestep in range(num_t_steps-1):\n",
    "    distances[timestep,:,:] = calc_distances(planes,timestep)\n",
    "    avg_distances[timestep] = np.mean(distances[timestep,:,:])\n",
    "\n",
    "    for plane in planes:\n",
    "        #Have put extra variables in to make it clearer\n",
    "\n",
    "        pos = plane.pos_array[timestep,:]\n",
    "        vel = plane.vel_array[timestep,:]\n",
    "\n",
    "        #Super simple solving\n",
    "        new_pos = pos + vel * delta_t\n",
    "        new_vel = vel\n",
    "\n",
    "        plane.pos_array[timestep+1,:] = new_pos\n",
    "        plane.vel_array[timestep+1,:] = new_vel"
   ]
  },
  {
   "cell_type": "code",
   "execution_count": 30,
   "metadata": {},
   "outputs": [
    {
     "data": {
      "text/plain": [
       "array([[[ 0.        ,  7.54261169,  2.98953975,  4.65973587],\n",
       "        [ 0.        ,  0.        ,  9.32057935,  6.73253247],\n",
       "        [ 0.        ,  0.        ,  0.        ,  4.01646963],\n",
       "        [ 0.        ,  0.        ,  0.        ,  0.        ]],\n",
       "\n",
       "       [[ 0.        ,  7.10438541,  3.33738614,  4.7672956 ],\n",
       "        [ 0.        ,  0.        ,  9.36696971,  6.74091375],\n",
       "        [ 0.        ,  0.        ,  0.        ,  4.27099856],\n",
       "        [ 0.        ,  0.        ,  0.        ,  0.        ]],\n",
       "\n",
       "       [[ 0.        ,  6.66654298,  3.70915781,  4.90465992],\n",
       "        [ 0.        ,  0.        ,  9.41653653,  6.7680434 ],\n",
       "        [ 0.        ,  0.        ,  0.        ,  4.5326924 ],\n",
       "        [ 0.        ,  0.        ,  0.        ,  0.        ]],\n",
       "\n",
       "       [[ 0.        ,  6.22916537,  4.09834894,  5.06940659],\n",
       "        [ 0.        ,  0.        ,  9.46922994,  6.81369747],\n",
       "        [ 0.        ,  0.        ,  0.        ,  4.8003795 ],\n",
       "        [ 0.        ,  0.        ,  0.        ,  0.        ]],\n",
       "\n",
       "       [[ 0.        ,  5.79235786,  4.50044259,  5.25896283],\n",
       "        [ 0.        ,  0.        ,  9.52499806,  6.87750706],\n",
       "        [ 0.        ,  0.        ,  0.        ,  5.07311124],\n",
       "        [ 0.        ,  0.        ,  0.        ,  0.        ]],\n",
       "\n",
       "       [[ 0.        ,  5.35625992,  4.91227136,  5.47075037],\n",
       "        [ 0.        ,  0.        ,  9.58378719,  6.95897277],\n",
       "        [ 0.        ,  0.        ,  0.        ,  5.35011618],\n",
       "        [ 0.        ,  0.        ,  0.        ,  0.        ]],\n",
       "\n",
       "       [[ 0.        ,  4.92106022,  5.33157983,  5.70229269],\n",
       "        [ 0.        ,  0.        ,  9.64554211,  7.05748321],\n",
       "        [ 0.        ,  0.        ,  0.        ,  5.6307637 ],\n",
       "        [ 0.        ,  0.        ,  0.        ,  0.        ]],\n",
       "\n",
       "       [[ 0.        ,  4.48702011,  5.75673379,  5.95128447],\n",
       "        [ 0.        ,  0.        ,  9.71020623,  7.17233608],\n",
       "        [ 0.        ,  0.        ,  0.        ,  5.91453531],\n",
       "        [ 0.        ,  0.        ,  0.        ,  0.        ]],\n",
       "\n",
       "       [[ 0.        ,  4.05451202,  6.18652823,  6.21562904],\n",
       "        [ 0.        ,  0.        ,  9.77772183,  7.30276037],\n",
       "        [ 0.        ,  0.        ,  0.        ,  6.20100212],\n",
       "        [ 0.        ,  0.        ,  0.        ,  0.        ]],\n",
       "\n",
       "       [[ 0.        ,  3.6240845 ,  6.62005937,  6.49345167],\n",
       "        [ 0.        ,  0.        ,  9.84803026,  7.44793808],\n",
       "        [ 0.        ,  0.        ,  0.        ,  6.48980723],\n",
       "        [ 0.        ,  0.        ,  0.        ,  0.        ]],\n",
       "\n",
       "       [[ 0.        ,  3.19657812,  7.05663855,  6.78309645],\n",
       "        [ 0.        ,  0.        ,  9.92107215,  7.60702456],\n",
       "        [ 0.        ,  0.        ,  0.        ,  6.78065187],\n",
       "        [ 0.        ,  0.        ,  0.        ,  0.        ]],\n",
       "\n",
       "       [[ 0.        ,  2.77334409,  7.4957332 ,  7.08311323],\n",
       "        [ 0.        ,  0.        ,  9.99678758,  7.77916656],\n",
       "        [ 0.        ,  0.        ,  0.        ,  7.07328445],\n",
       "        [ 0.        ,  0.        ,  0.        ,  0.        ]],\n",
       "\n",
       "       [[ 0.        ,  2.35668531,  7.93692585,  7.39223926],\n",
       "        [ 0.        ,  0.        , 10.07511627,  7.96351746],\n",
       "        [ 0.        ,  0.        ,  0.        ,  7.36749193],\n",
       "        [ 0.        ,  0.        ,  0.        ,  0.        ]],\n",
       "\n",
       "       [[ 0.        ,  1.95081941,  8.37988512,  7.70937884],\n",
       "        [ 0.        ,  0.        , 10.15599777,  8.15924978],\n",
       "        [ 0.        ,  0.        ,  0.        ,  7.66309291],\n",
       "        [ 0.        ,  0.        ,  0.        ,  0.        ]],\n",
       "\n",
       "       [[ 0.        ,  1.56417056,  8.82434498,  8.03358299],\n",
       "        [ 0.        ,  0.        , 10.23937157,  8.36556465],\n",
       "        [ 0.        ,  0.        ,  0.        ,  7.95993216],\n",
       "        [ 0.        ,  0.        ,  0.        ,  0.        ]],\n",
       "\n",
       "       [[ 0.        ,  1.21522229,  9.27008959,  8.36403024],\n",
       "        [ 0.        ,  0.        , 10.3251773 ,  8.58169886],\n",
       "        [ 0.        ,  0.        ,  0.        ,  8.25787613],\n",
       "        [ 0.        ,  0.        ,  0.        ,  0.        ]],\n",
       "\n",
       "       [[ 0.        ,  0.94662737,  9.71694215,  8.70000924],\n",
       "        [ 0.        ,  0.        , 10.41335485,  8.80692951],\n",
       "        [ 0.        ,  0.        ,  0.        ,  8.55680943],\n",
       "        [ 0.        ,  0.        ,  0.        ,  0.        ]],\n",
       "\n",
       "       [[ 0.        ,  0.83943077, 10.16475654,  9.04090329],\n",
       "        [ 0.        ,  0.        , 10.50384449,  9.04057674],\n",
       "        [ 0.        ,  0.        ,  0.        ,  8.85663189],\n",
       "        [ 0.        ,  0.        ,  0.        ,  0.        ]],\n",
       "\n",
       "       [[ 0.        ,  0.94994061, 10.61341101,  9.38617688],\n",
       "        [ 0.        ,  0.        , 10.59658697,  9.282005  ],\n",
       "        [ 0.        ,  0.        ,  0.        ,  9.15725617],\n",
       "        [ 0.        ,  0.        ,  0.        ,  0.        ]],\n",
       "\n",
       "       [[ 0.        ,  0.        ,  0.        ,  0.        ],\n",
       "        [ 0.        ,  0.        ,  0.        ,  0.        ],\n",
       "        [ 0.        ,  0.        ,  0.        ,  0.        ],\n",
       "        [ 0.        ,  0.        ,  0.        ,  0.        ]]])"
      ]
     },
     "execution_count": 30,
     "metadata": {},
     "output_type": "execute_result"
    }
   ],
   "source": [
    "distances"
   ]
  },
  {
   "cell_type": "code",
   "execution_count": 31,
   "metadata": {},
   "outputs": [
    {
     "data": {
      "text/plain": [
       "[<matplotlib.lines.Line2D at 0x214786818b0>]"
      ]
     },
     "execution_count": 31,
     "metadata": {},
     "output_type": "execute_result"
    },
    {
     "data": {
      "image/png": "[encoded data removed]",
      "text/plain": [
       "<Figure size 432x288 with 1 Axes>"
      ]
     },
     "metadata": {
      "needs_background": "light"
     },
     "output_type": "display_data"
    }
   ],
   "source": [
    "plt.plot(avg_distances)"
   ]
  },
  {
   "cell_type": "code",
   "execution_count": 32,
   "metadata": {},
   "outputs": [
    {
     "data": {
      "image/png": "[encoded data removed]",
      "text/plain": [
       "<Figure size 432x288 with 1 Axes>"
      ]
     },
     "metadata": {
      "needs_background": "light"
     },
     "output_type": "display_data"
    }
   ],
   "source": [
    "#Setup 3d plotting (not sure if this is best way of doing it)\n",
    "ax = plt.figure().add_subplot(projection='3d')\n",
    "\n",
    "for plane in planes:\n",
    "    pos = plane.pos_array\n",
    "    #For each plane plots line of trajectory\n",
    "    ax.plot(pos[:,0],pos[:,1],pos[:,2],label=\"Plane {id}\".format(id = plane.id))\n",
    "    #Dot for start pos\n",
    "    ax.scatter(pos[0,0],pos[0,1],pos[0,2])\n",
    "\n",
    "ax.set_xlabel(\"x\")\n",
    "ax.set_ylabel(\"y\")\n",
    "ax.set_zlabel(\"z\")\n",
    "\n",
    "#Bounding plot to grid size set\n",
    "#NOTE: planes might disappear off edge\n",
    "ax.set_xlim(0,grid_size)\n",
    "ax.set_ylim(0,grid_size)\n",
    "ax.set_zlim(0,grid_size)\n",
    "\n",
    "ax.legend()\n",
    "plt.show()"
   ]
  }
 ],
 "metadata": {
  "kernelspec": {
   "display_name": "Python 3.9.1 64-bit",
   "language": "python",
   "name": "python3"
  },
  "language_info": {
   "codemirror_mode": {
    "name": "ipython",
    "version": 3
   },
   "file_extension": ".py",
   "mimetype": "text/x-python",
   "name": "python",
   "nbconvert_exporter": "python",
   "pygments_lexer": "ipython3",
   "version": "3.9.1"
  },
  "orig_nbformat": 4,
  "vscode": {
   "interpreter": {
    "hash": "8b1ab0cec3fcffef274fee4235a62be62f41fccf73fa7a28ac94dc9d203a1c8a"
   }
  }
 },
 "nbformat": 4,
 "nbformat_minor": 2
}
