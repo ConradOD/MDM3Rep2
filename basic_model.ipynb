{
 "cells": [
  {
   "cell_type": "code",
   "execution_count": 1,
   "metadata": {},
   "outputs": [],
   "source": [
    "import numpy as np\n",
    "import matplotlib.pyplot as plt"
   ]
  },
  {
   "cell_type": "code",
   "execution_count": 13,
   "metadata": {},
   "outputs": [],
   "source": [
    "class Plane:\n",
    "    def __init__(self,_id,_pos,_vel):\n",
    "        self.id = _id\n",
    "        self.pos = _pos #Not sure if we want this defined as np array or as pos_x, pos_y and pos_z\n",
    "        self.vel = _vel #Not sure if we want this defined as np array or as vel_x, vel_y and vel_z\n",
    "\n",
    "    def __str__(self):\n",
    "        return \"ID: {id}, Pos: {pos}, Vel: {vel}\".format(id = self.id, pos = self.pos, vel = self.vel)"
   ]
  },
  {
   "cell_type": "code",
   "execution_count": 26,
   "metadata": {},
   "outputs": [],
   "source": [
    "def create_n_planes(n_planes,max_pos,max_vel):\n",
    "    # n_planes controls how many planes are created\n",
    "    # max_pos is used as size of the grid planes put randomly in (just temp)\n",
    "    # max_vel scales the maximum velocity of the planes\n",
    "\n",
    "    return [Plane(id,np.random.rand(3)*max_pos,np.random.rand(3)*max_vel) for id in range(n_planes)]"
   ]
  },
  {
   "cell_type": "code",
   "execution_count": 29,
   "metadata": {},
   "outputs": [],
   "source": [
    "#Create some planes\n",
    "num_planes = 4\n",
    "grid_size = 10 #10x10 grid\n",
    "max_plane_vel = 2\n",
    "\n",
    "planes = create_n_planes(num_planes,grid_size,max_plane_vel)"
   ]
  },
  {
   "cell_type": "code",
   "execution_count": 38,
   "metadata": {},
   "outputs": [],
   "source": [
    "#Define time setup\n",
    "max_t = 10\n",
    "delta_t = 0.5\n",
    "num_t_steps = int(max_t / delta_t)"
   ]
  },
  {
   "cell_type": "code",
   "execution_count": 41,
   "metadata": {},
   "outputs": [],
   "source": [
    "#Create arrays to store position and velocity over time\n",
    "positions = np.zeros((num_planes,num_t_steps,3))\n",
    "velocities = np.zeros((num_planes,num_t_steps,3))"
   ]
  },
  {
   "cell_type": "code",
   "execution_count": null,
   "metadata": {},
   "outputs": [],
   "source": [
    "#Initialise pos and vel randomly\n",
    "#Can change this later"
   ]
  }
 ],
 "metadata": {
  "kernelspec": {
   "display_name": "Python 3.9.1 64-bit",
   "language": "python",
   "name": "python3"
  },
  "language_info": {
   "codemirror_mode": {
    "name": "ipython",
    "version": 3
   },
   "file_extension": ".py",
   "mimetype": "text/x-python",
   "name": "python",
   "nbconvert_exporter": "python",
   "pygments_lexer": "ipython3",
   "version": "3.9.1"
  },
  "orig_nbformat": 4,
  "vscode": {
   "interpreter": {
    "hash": "8b1ab0cec3fcffef274fee4235a62be62f41fccf73fa7a28ac94dc9d203a1c8a"
   }
  }
 },
 "nbformat": 4,
 "nbformat_minor": 2
}
