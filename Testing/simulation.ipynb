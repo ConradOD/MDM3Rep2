{
 "cells": [
  {
   "cell_type": "code",
   "execution_count": 41,
   "metadata": {},
   "outputs": [],
   "source": [
    "import numpy as np\n",
    "import matplotlib.pyplot as plt"
   ]
  },
  {
   "cell_type": "code",
   "execution_count": 42,
   "metadata": {},
   "outputs": [],
   "source": [
    "class Plane:\n",
    "    def __init__(self,_id,_current_pos,_current_vel,_pos_array,_vel_array):\n",
    "        self.id = _id #Unique id of plane\n",
    "        #Think remove the initial pos\n",
    "        self.pos_current = _current_pos #Pos at current time\n",
    "        self.vel_current = _current_vel #Vel at current time\n",
    "        self.pos_array = _pos_array #Array of position over time\n",
    "        self.vel_array = _vel_array #Array of velocity over time\n",
    "\n",
    "    def __str__(self):\n",
    "        #For useful output whenprinting object e.g. print(plane) = ID: 10, Pos: [0,1,2] etc.\n",
    "        #Probably needs bit of adjusting\n",
    "        return \"ID: {id}, Current_pos: {c_pos}, Current_vel: {c_vel}\".format(id = self.id, c_pos = self.pos_current, c_vel = self.vel_current)"
   ]
  },
  {
   "cell_type": "code",
   "execution_count": 43,
   "metadata": {},
   "outputs": [],
   "source": [
    "def create_n_planes(n_planes,max_pos,max_vel,num_time_steps):\n",
    "    # n_planes controls how many planes are created\n",
    "    # max_pos is used as size of the grid planes put randomly in (just temp)\n",
    "    # max_vel scales the maximum velocity of the planes\n",
    "\n",
    "    plane_list = []\n",
    "    for id in range(n_planes):\n",
    "        # initial_pos = np.random.rand(3) * max_pos\n",
    "        # initial_vel = np.random.rand(3) * max_vel\n",
    "\n",
    "        pos_array = np.zeros((num_time_steps,3))\n",
    "        vel_array = np.zeros((num_time_steps,3))\n",
    "\n",
    "        pos_array[0,:] = np.random.rand(3) * max_pos\n",
    "        vel_array[0,:] = np.random.rand(3) * max_vel\n",
    "\n",
    "        plane_list.append(Plane(id, #Unique id\n",
    "                                pos_array[0,:], #Inital pos\n",
    "                                vel_array[0,:], #Initial vel\n",
    "                                pos_array, #Pos array\n",
    "                                vel_array)) #Vel array\n",
    "    \n",
    "    return plane_list"
   ]
  },
  {
   "cell_type": "code",
   "execution_count": 44,
   "metadata": {},
   "outputs": [],
   "source": [
    "def calc_distances(planes,time_step):\n",
    "    #Returns n x n matrix of distance between plane i and plane j\n",
    "    #Diagonals should be zero\n",
    "    #Should be symmetrical\n",
    "    num_planes = len(planes)\n",
    "    out = np.zeros((num_planes,num_planes))\n",
    "\n",
    "    for i in range(num_planes):\n",
    "        for j in range(i+1,num_planes):\n",
    "            pos_i = planes[i].pos_array[time_step,:]\n",
    "            pos_j = planes[j].pos_array[time_step,:]\n",
    "            distance = np.linalg.norm(pos_i - pos_j)\n",
    "            out[i,j] = distance\n",
    "\n",
    "    return out"
   ]
  },
  {
   "cell_type": "code",
   "execution_count": 45,
   "metadata": {},
   "outputs": [],
   "source": [
    "#Time setup for solving\n",
    "max_t = 30\n",
    "delta_t = 0.5\n",
    "num_t_steps = int(max_t / delta_t)\n",
    "\n",
    "#Square grid size\n",
    "grid_size = 100\n",
    "\n",
    "#Define variables about planes\n",
    "num_planes = 10\n",
    "max_plane_vel = 10\n",
    "\n",
    "#Uncertainty magnitude\n",
    "uncertainty = max_plane_vel/8\n",
    "\n",
    "#Iteration variables\n",
    "iteration = 0\n",
    "iteration_max = 1000\n",
    "#Separation threshold, below which = crash\n",
    "separation_threshold = 5"
   ]
  },
  {
   "cell_type": "code",
   "execution_count": 46,
   "metadata": {},
   "outputs": [
    {
     "name": "stdout",
     "output_type": "stream",
     "text": [
      "Total crashes: 152.0, Iterations: 1000\n",
      "Mean crashes per run: 0.152\n"
     ]
    }
   ],
   "source": [
    "#Output\n",
    "total_crashed = 0\n",
    "\n",
    "while iteration < iteration_max:\n",
    "    #Create plane objects\n",
    "    planes = create_n_planes(num_planes,grid_size,max_plane_vel,num_t_steps)\n",
    "\n",
    "    #Create variables to store distances\n",
    "    distances = np.zeros((num_t_steps-1,num_planes,num_planes))\n",
    "    #avg_distances = np.zeros((num_t_steps-1))\n",
    "    crashed = np.zeros((num_planes,num_planes))\n",
    "\n",
    "    for timestep in range(num_t_steps-1):\n",
    "        distances[timestep,:,:] = calc_distances(planes,timestep)\n",
    "        #avg_distances[timestep] = np.mean(distances[timestep,:,:])\n",
    "        crashed[np.where((distances[timestep,:,:]<separation_threshold)&(distances[timestep,:,:]!=0),1,0).nonzero()] = 1\n",
    "        for plane in planes:\n",
    "            #Extract pos and vel\n",
    "            pos = plane.pos_array[timestep,:]\n",
    "            vel = plane.vel_array[timestep,:]\n",
    "\n",
    "            #Increment pos and vel\n",
    "            new_pos = pos + vel * delta_t\n",
    "            new_vel = vel + np.random.uniform(-1,1,3) * uncertainty\n",
    "\n",
    "            #Store new val\n",
    "            plane.pos_array[timestep+1,:] = new_pos\n",
    "            plane.vel_array[timestep+1,:] = new_vel\n",
    "\n",
    "    #Count total crashed\n",
    "    total_crashed += np.sum(crashed)\n",
    "\n",
    "    iteration += 1\n",
    "\n",
    "print(\"Total crashes: {total_crashes}, Iterations: {iter_max}\".format(total_crashes = total_crashed, iter_max = iteration_max))\n",
    "print(\"Mean crashes per run: {mean_crash}\".format(mean_crash = total_crashed / iteration_max))"
   ]
  }
 ],
 "metadata": {
  "kernelspec": {
   "display_name": "Python 3.10.7 64-bit",
   "language": "python",
   "name": "python3"
  },
  "language_info": {
   "codemirror_mode": {
    "name": "ipython",
    "version": 3
   },
   "file_extension": ".py",
   "mimetype": "text/x-python",
   "name": "python",
   "nbconvert_exporter": "python",
   "pygments_lexer": "ipython3",
   "version": "3.10.7"
  },
  "orig_nbformat": 4,
  "vscode": {
   "interpreter": {
    "hash": "35687e0410109d90269e8711782cd5b9538046a8a1efa948d1d0e590a31c834d"
   }
  }
 },
 "nbformat": 4,
 "nbformat_minor": 2
}
