{
 "cells": [
  {
   "cell_type": "code",
   "execution_count": 37,
   "metadata": {},
   "outputs": [],
   "source": [
    "import numpy as np\n",
    "import matplotlib.pyplot as plt"
   ]
  },
  {
   "cell_type": "code",
   "execution_count": 38,
   "metadata": {},
   "outputs": [],
   "source": [
    "class Plane:\n",
    "    def __init__(self,_id,_current_pos,_current_vel,_pos_array,_vel_array):\n",
    "        self.id = _id #Unique id of plane\n",
    "        #Think remove the initial pos\n",
    "        self.pos_current = _current_pos #Pos at current time\n",
    "        self.vel_current = _current_vel #Vel at current time\n",
    "        self.pos_array = _pos_array #Array of position over time\n",
    "        self.vel_array = _vel_array #Array of velocity over time\n",
    "\n",
    "    def __str__(self):\n",
    "        #For useful output whenprinting object e.g. print(plane) = ID: 10, Pos: [0,1,2] etc.\n",
    "        #Probably needs bit of adjusting\n",
    "        return \"ID: {id}, Current_pos: {c_pos}, Current_vel: {c_vel}\".format(id = self.id, c_pos = self.pos_current, c_vel = self.vel_current)"
   ]
  },
  {
   "cell_type": "code",
   "execution_count": 39,
   "metadata": {},
   "outputs": [],
   "source": [
    "def create_n_planes(n_planes,max_pos,max_vel,num_time_steps):\n",
    "    # n_planes controls how many planes are created\n",
    "    # max_pos is used as size of the grid planes put randomly in (just temp)\n",
    "    # max_vel scales the maximum velocity of the planes\n",
    "\n",
    "    plane_list = []\n",
    "    for id in range(n_planes):\n",
    "        # initial_pos = np.random.rand(3) * max_pos\n",
    "        # initial_vel = np.random.rand(3) * max_vel\n",
    "\n",
    "        pos_array = np.zeros((num_time_steps,3))\n",
    "        vel_array = np.zeros((num_time_steps,3))\n",
    "\n",
    "        pos_array[0,:] = np.random.rand(3) * max_pos\n",
    "        vel_array[0,:] = np.random.rand(3) * max_vel\n",
    "\n",
    "        plane_list.append(Plane(id, #Unique id\n",
    "                                pos_array[0,:], #Inital pos\n",
    "                                vel_array[0,:], #Initial vel\n",
    "                                pos_array, #Pos array\n",
    "                                vel_array)) #Vel array\n",
    "    \n",
    "    return plane_list"
   ]
  },
  {
   "cell_type": "code",
   "execution_count": 40,
   "metadata": {},
   "outputs": [],
   "source": [
    "#Define variables about planes\n",
    "num_planes = 10\n",
    "grid_size = 10 #10x10 grid\n",
    "max_plane_vel = 1\n",
    "\n",
    "#Define time setup\n",
    "max_t = 10\n",
    "delta_t = 0.5\n",
    "num_t_steps = int(max_t / delta_t)"
   ]
  },
  {
   "cell_type": "code",
   "execution_count": 41,
   "metadata": {},
   "outputs": [],
   "source": [
    "#Create planes\n",
    "planes = create_n_planes(num_planes,grid_size,max_plane_vel,num_t_steps)"
   ]
  },
  {
   "cell_type": "code",
   "execution_count": 42,
   "metadata": {},
   "outputs": [],
   "source": [
    "def risk_function(plane_pos,plane_vel,coord):\n",
    "    risk = 1/( (coord[0] - plane_pos[0])**2 + (coord[1] - plane_pos[1])**2+ 1)\n",
    "    return risk"
   ]
  },
  {
   "cell_type": "code",
   "execution_count": 43,
   "metadata": {},
   "outputs": [],
   "source": [
    "def create_risk_field(plane_pos,plane_vel,grid_size):\n",
    "    out = np.zeros((grid_size,grid_size))\n",
    "    for i in range(out.shape[0]):\n",
    "        for j in range(out.shape[1]):\n",
    "            #Need to get actual coords rather than indice?\n",
    "            coord = [i,j]\n",
    "            out[i,j] = risk_function(plane_pos,plane_vel,coord)\n",
    "    return out"
   ]
  },
  {
   "cell_type": "code",
   "execution_count": 44,
   "metadata": {},
   "outputs": [],
   "source": [
    "fields = [ create_risk_field(plane.pos_current,plane.vel_current,grid_size) for plane in planes]"
   ]
  },
  {
   "cell_type": "code",
   "execution_count": 45,
   "metadata": {},
   "outputs": [
    {
     "data": {
      "text/plain": [
       "<matplotlib.image.AxesImage at 0x1d568b07310>"
      ]
     },
     "execution_count": 45,
     "metadata": {},
     "output_type": "execute_result"
    },
    {
     "data": {
      "image/png": "[encoded data removed]",
      "text/plain": [
       "<Figure size 640x480 with 1 Axes>"
      ]
     },
     "metadata": {},
     "output_type": "display_data"
    }
   ],
   "source": [
    "plt.imshow(fields[0],origin='lower')"
   ]
  },
  {
   "cell_type": "code",
   "execution_count": 46,
   "metadata": {},
   "outputs": [
    {
     "data": {
      "text/plain": [
       "30.928800843134038"
      ]
     },
     "execution_count": 46,
     "metadata": {},
     "output_type": "execute_result"
    }
   ],
   "source": [
    "combinations = []\n",
    "for i in range(num_planes):\n",
    "    for j in range(i+1,num_planes):\n",
    "        combinations.append([i,j])\n",
    "\n",
    "field_combination_multiplied = [ fields[combination[0]] * fields[combination[1]] for combination in combinations]\n",
    "combination_sums = [np.sum(field) for field in field_combination_multiplied]"
   ]
  },
  {
   "cell_type": "code",
   "execution_count": 48,
   "metadata": {},
   "outputs": [
    {
     "name": "stdout",
     "output_type": "stream",
     "text": [
      "Num pairs:  45\n",
      "Mean total pair risk:  0.6873066854029786\n",
      "Total risk:  30.928800843134038\n"
     ]
    }
   ],
   "source": [
    "total_risk = np.sum(combination_sums)\n",
    "mean_pair_risk = np.mean(combination_sums)\n",
    "\n",
    "print(\"Num pairs: \", len(combinations))\n",
    "print(\"Mean total pair risk: \", mean_pair_risk)\n",
    "print(\"Total risk: \", total_risk)"
   ]
  }
 ],
 "metadata": {
  "kernelspec": {
   "display_name": "Python 3.10.7 64-bit",
   "language": "python",
   "name": "python3"
  },
  "language_info": {
   "codemirror_mode": {
    "name": "ipython",
    "version": 3
   },
   "file_extension": ".py",
   "mimetype": "text/x-python",
   "name": "python",
   "nbconvert_exporter": "python",
   "pygments_lexer": "ipython3",
   "version": "3.10.7"
  },
  "orig_nbformat": 4,
  "vscode": {
   "interpreter": {
    "hash": "35687e0410109d90269e8711782cd5b9538046a8a1efa948d1d0e590a31c834d"
   }
  }
 },
 "nbformat": 4,
 "nbformat_minor": 2
}
