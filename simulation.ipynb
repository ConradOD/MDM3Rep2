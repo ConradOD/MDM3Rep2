{
 "cells": [
  {
   "cell_type": "code",
   "execution_count": 315,
   "metadata": {},
   "outputs": [],
   "source": [
    "import numpy as np\n",
    "import matplotlib.pyplot as plt"
   ]
  },
  {
   "cell_type": "code",
   "execution_count": 316,
   "metadata": {},
   "outputs": [
    {
     "data": {
      "text/plain": [
       "array([-0.95894026])"
      ]
     },
     "execution_count": 316,
     "metadata": {},
     "output_type": "execute_result"
    }
   ],
   "source": [
    "np.random.uniform(-1,1,1)"
   ]
  },
  {
   "cell_type": "code",
   "execution_count": 317,
   "metadata": {},
   "outputs": [],
   "source": [
    "class Plane:\n",
    "    def __init__(self,_id,_current_pos,_current_vel,_pos_array,_vel_array):\n",
    "        self.id = _id #Unique id of plane\n",
    "        #Think remove the initial pos\n",
    "        self.pos_current = _current_pos #Pos at current time\n",
    "        self.vel_current = _current_vel #Vel at current time\n",
    "        self.pos_array = _pos_array #Array of position over time\n",
    "        self.vel_array = _vel_array #Array of velocity over time\n",
    "\n",
    "    def __str__(self):\n",
    "        #For useful output whenprinting object e.g. print(plane) = ID: 10, Pos: [0,1,2] etc.\n",
    "        #Probably needs bit of adjusting\n",
    "        return \"ID: {id}, Current_pos: {c_pos}, Current_vel: {c_vel}\".format(id = self.id, c_pos = self.pos_current, c_vel = self.vel_current)"
   ]
  },
  {
   "cell_type": "code",
   "execution_count": 318,
   "metadata": {},
   "outputs": [],
   "source": [
    "def create_n_planes(n_planes,max_pos,max_vel,num_time_steps):\n",
    "    # n_planes controls how many planes are created\n",
    "    # max_pos is used as size of the grid planes put randomly in (just temp)\n",
    "    # max_vel scales the maximum velocity of the planes\n",
    "\n",
    "    plane_list = []\n",
    "    for id in range(n_planes):\n",
    "        # initial_pos = np.random.rand(3) * max_pos\n",
    "        # initial_vel = np.random.rand(3) * max_vel\n",
    "\n",
    "        pos_array = np.zeros((num_time_steps,3))\n",
    "        vel_array = np.zeros((num_time_steps,3))\n",
    "\n",
    "        pos_array[0,:] = np.random.rand(3) * max_pos\n",
    "        vel_array[0,:] = np.random.rand(3) * max_vel\n",
    "\n",
    "        plane_list.append(Plane(id, #Unique id\n",
    "                                pos_array[0,:], #Inital pos\n",
    "                                vel_array[0,:], #Initial vel\n",
    "                                pos_array, #Pos array\n",
    "                                vel_array)) #Vel array\n",
    "    \n",
    "    return plane_list"
   ]
  },
  {
   "cell_type": "code",
   "execution_count": 319,
   "metadata": {},
   "outputs": [],
   "source": [
    "#Define time setup\n",
    "max_t = 30\n",
    "delta_t = 0.5\n",
    "num_t_steps = int(max_t / delta_t)\n",
    "\n",
    "#Define variables about planes\n",
    "num_planes = 4\n",
    "grid_size = 100 #10x10 grid\n",
    "max_plane_vel = 10"
   ]
  },
  {
   "cell_type": "code",
   "execution_count": 320,
   "metadata": {},
   "outputs": [],
   "source": [
    "#Create planes\n",
    "planes = create_n_planes(num_planes,grid_size,max_plane_vel,num_t_steps)"
   ]
  },
  {
   "cell_type": "code",
   "execution_count": 321,
   "metadata": {},
   "outputs": [],
   "source": [
    "def calc_distances(planes,time_step):\n",
    "    #Returns n x n matrix of distance between plane i and plane j\n",
    "    #Diagonals should be zero\n",
    "    #Should be symmetrical\n",
    "    num_planes = len(planes)\n",
    "    out = np.zeros((num_planes,num_planes))\n",
    "\n",
    "    for i in range(num_planes):\n",
    "        for j in range(i+1,num_planes):\n",
    "            pos_i = planes[i].pos_array[time_step,:]\n",
    "            pos_j = planes[j].pos_array[time_step,:]\n",
    "            distance = np.linalg.norm(pos_i - pos_j)\n",
    "            out[i,j] = distance\n",
    "\n",
    "    return out"
   ]
  },
  {
   "cell_type": "code",
   "execution_count": 322,
   "metadata": {},
   "outputs": [],
   "source": [
    "distances = np.zeros((num_t_steps-1,num_planes,num_planes))\n",
    "avg_distances = np.zeros((num_t_steps-1))\n",
    "uncertainty = max_plane_vel/8\n",
    "crashed = np.zeros((num_planes,num_planes))\n",
    "\n",
    "\n",
    "for timestep in range(num_t_steps-1):\n",
    "    distances[timestep,:,:] = calc_distances(planes,timestep)\n",
    "    avg_distances[timestep] = np.mean(distances[timestep,:,:])\n",
    "    crashed[np.where((distances[timestep,:,:]<40)&(distances[timestep,:,:]!=0),1,0).nonzero()] = 1\n",
    "    for plane in planes:\n",
    "        #Have put extra variables in to make it clearer\n",
    "\n",
    "        pos = plane.pos_array[timestep,:]\n",
    "        vel = plane.vel_array[timestep,:]\n",
    "\n",
    "        #Super simple solving\n",
    "        new_pos = pos + vel * delta_t\n",
    "        new_vel = vel + np.random.uniform(-1,1,3) * uncertainty\n",
    "\n",
    "        plane.pos_array[timestep+1,:] = new_pos\n",
    "        plane.vel_array[timestep+1,:] = new_vel"
   ]
  },
  {
   "cell_type": "code",
   "execution_count": 323,
   "metadata": {},
   "outputs": [
    {
     "data": {
      "text/plain": [
       "2.0"
      ]
     },
     "execution_count": 323,
     "metadata": {},
     "output_type": "execute_result"
    }
   ],
   "source": [
    "total_crashed = np.sum(crashed)\n",
    "total_crashed"
   ]
  },
  {
   "cell_type": "code",
   "execution_count": 324,
   "metadata": {},
   "outputs": [
    {
     "data": {
      "text/plain": [
       "[<matplotlib.lines.Line2D at 0x27bcbfbf5e0>]"
      ]
     },
     "execution_count": 324,
     "metadata": {},
     "output_type": "execute_result"
    },
    {
     "data": {
      "image/png": "[encoded data removed]",
      "text/plain": [
       "<Figure size 432x288 with 1 Axes>"
      ]
     },
     "metadata": {
      "needs_background": "light"
     },
     "output_type": "display_data"
    }
   ],
   "source": [
    "plt.plot(avg_distances)"
   ]
  },
  {
   "cell_type": "code",
   "execution_count": 325,
   "metadata": {},
   "outputs": [
    {
     "data": {
      "image/png": "[encoded data removed]",
      "text/plain": [
       "<Figure size 432x288 with 1 Axes>"
      ]
     },
     "metadata": {
      "needs_background": "light"
     },
     "output_type": "display_data"
    }
   ],
   "source": [
    "#Setup 3d plotting (not sure if this is best way of doing it)\n",
    "ax = plt.figure().add_subplot(projection='3d')\n",
    "\n",
    "for plane in planes:\n",
    "    pos = plane.pos_array\n",
    "    #For each plane plots line of trajectory\n",
    "    ax.plot(pos[:,0],pos[:,1],pos[:,2],label=\"Plane {id}\".format(id = plane.id))\n",
    "    #Dot for start pos\n",
    "    ax.scatter(pos[0,0],pos[0,1],pos[0,2])\n",
    "\n",
    "ax.set_xlabel(\"x\")\n",
    "ax.set_ylabel(\"y\")\n",
    "ax.set_zlabel(\"z\")\n",
    "\n",
    "#Bounding plot to grid size set\n",
    "#NOTE: planes might disappear off edge\n",
    "# ax.set_xlim(0,grid_size)\n",
    "# ax.set_ylim(0,grid_size)\n",
    "# ax.set_zlim(0,grid_size)\n",
    "\n",
    "ax.legend()\n",
    "plt.show()"
   ]
  }
 ],
 "metadata": {
  "kernelspec": {
   "display_name": "Python 3.9.1 64-bit",
   "language": "python",
   "name": "python3"
  },
  "language_info": {
   "codemirror_mode": {
    "name": "ipython",
    "version": 3
   },
   "file_extension": ".py",
   "mimetype": "text/x-python",
   "name": "python",
   "nbconvert_exporter": "python",
   "pygments_lexer": "ipython3",
   "version": "3.9.1"
  },
  "orig_nbformat": 4,
  "vscode": {
   "interpreter": {
    "hash": "8b1ab0cec3fcffef274fee4235a62be62f41fccf73fa7a28ac94dc9d203a1c8a"
   }
  }
 },
 "nbformat": 4,
 "nbformat_minor": 2
}
